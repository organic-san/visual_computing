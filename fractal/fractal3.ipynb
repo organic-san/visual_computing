{
 "cells": [
  {
   "cell_type": "code",
   "execution_count": null,
   "id": "30deba78-6ba8-4d32-8e2c-95f9ae4c13fd",
   "metadata": {},
   "outputs": [],
   "source": [
    "from __future__ import print_function, division\n",
    "import turtle\n",
    "\n",
    "def draw(t, length, n):\n",
    "    if n == 0:\n",
    "        for _ in range(3):\n",
    "            t.forward(length)\n",
    "            t.left(120)\n",
    "        return\n",
    "    for _ in range(3):\n",
    "        t.forward(length)\n",
    "        t.left(120)\n",
    "        draw(t, length / 2, n - 1)\n",
    "\n",
    "gamera = turtle.Turtle()\n",
    "gamera.reset()\n",
    "gamera.speed(0)\n",
    "length = 500\n",
    "hierarchy = 6\n",
    "# move to the starting point\n",
    "gamera.penup()\n",
    "gamera.back(length / 2)\n",
    "gamera.right(90)\n",
    "gamera.forward(length * 0.866 / 2)\n",
    "gamera.left(90)\n",
    "# draw\n",
    "gamera.pendown()\n",
    "draw(gamera, length, hierarchy)\n",
    "# wait for the user to close the window\n",
    "turtle.mainloop()\n"
   ]
  },
  {
   "cell_type": "code",
   "execution_count": null,
   "id": "3a9e52f2-903e-43c4-8cfe-5f52d9b140e7",
   "metadata": {},
   "outputs": [],
   "source": []
  }
 ],
 "metadata": {
  "kernelspec": {
   "display_name": "Python 3 (ipykernel)",
   "language": "python",
   "name": "python3"
  },
  "language_info": {
   "codemirror_mode": {
    "name": "ipython",
    "version": 3
   },
   "file_extension": ".py",
   "mimetype": "text/x-python",
   "name": "python",
   "nbconvert_exporter": "python",
   "pygments_lexer": "ipython3",
   "version": "3.12.4"
  }
 },
 "nbformat": 4,
 "nbformat_minor": 5
}
