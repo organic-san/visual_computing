{
 "cells": [
  {
   "cell_type": "code",
   "execution_count": 2,
   "id": "70eabf2f-fc23-415d-96b9-34f629fbd714",
   "metadata": {},
   "outputs": [
    {
     "ename": "Terminator",
     "evalue": "",
     "output_type": "error",
     "traceback": [
      "\u001b[1;31m---------------------------------------------------------------------------\u001b[0m",
      "\u001b[1;31mTerminator\u001b[0m                                Traceback (most recent call last)",
      "Cell \u001b[1;32mIn[2], line 29\u001b[0m\n\u001b[0;32m     27\u001b[0m \u001b[38;5;66;03m# draw\u001b[39;00m\n\u001b[0;32m     28\u001b[0m gamera\u001b[38;5;241m.\u001b[39mpendown()\n\u001b[1;32m---> 29\u001b[0m draw(gamera, length, hierarchy)\n\u001b[0;32m     30\u001b[0m \u001b[38;5;66;03m# wait for the user to close the window\u001b[39;00m\n\u001b[0;32m     31\u001b[0m turtle\u001b[38;5;241m.\u001b[39mmainloop()\n",
      "Cell \u001b[1;32mIn[2], line 11\u001b[0m, in \u001b[0;36mdraw\u001b[1;34m(t, length, n)\u001b[0m\n\u001b[0;32m      9\u001b[0m     t\u001b[38;5;241m.\u001b[39mforward(length)\n\u001b[0;32m     10\u001b[0m     \u001b[38;5;28;01mreturn\u001b[39;00m\n\u001b[1;32m---> 11\u001b[0m draw(t, length \u001b[38;5;241m*\u001b[39m \u001b[38;5;241m0.36\u001b[39m, n\u001b[38;5;241m-\u001b[39m\u001b[38;5;241m1\u001b[39m)\n\u001b[0;32m     12\u001b[0m t\u001b[38;5;241m.\u001b[39mleft(ang) \u001b[38;5;66;03m# sin^-1(0.04)\u001b[39;00m\n\u001b[0;32m     13\u001b[0m draw(t, length \u001b[38;5;241m/\u001b[39m \u001b[38;5;241m4\u001b[39m, n\u001b[38;5;241m-\u001b[39m\u001b[38;5;241m1\u001b[39m)\n",
      "Cell \u001b[1;32mIn[2], line 11\u001b[0m, in \u001b[0;36mdraw\u001b[1;34m(t, length, n)\u001b[0m\n\u001b[0;32m      9\u001b[0m     t\u001b[38;5;241m.\u001b[39mforward(length)\n\u001b[0;32m     10\u001b[0m     \u001b[38;5;28;01mreturn\u001b[39;00m\n\u001b[1;32m---> 11\u001b[0m draw(t, length \u001b[38;5;241m*\u001b[39m \u001b[38;5;241m0.36\u001b[39m, n\u001b[38;5;241m-\u001b[39m\u001b[38;5;241m1\u001b[39m)\n\u001b[0;32m     12\u001b[0m t\u001b[38;5;241m.\u001b[39mleft(ang) \u001b[38;5;66;03m# sin^-1(0.04)\u001b[39;00m\n\u001b[0;32m     13\u001b[0m draw(t, length \u001b[38;5;241m/\u001b[39m \u001b[38;5;241m4\u001b[39m, n\u001b[38;5;241m-\u001b[39m\u001b[38;5;241m1\u001b[39m)\n",
      "Cell \u001b[1;32mIn[2], line 13\u001b[0m, in \u001b[0;36mdraw\u001b[1;34m(t, length, n)\u001b[0m\n\u001b[0;32m     11\u001b[0m draw(t, length \u001b[38;5;241m*\u001b[39m \u001b[38;5;241m0.36\u001b[39m, n\u001b[38;5;241m-\u001b[39m\u001b[38;5;241m1\u001b[39m)\n\u001b[0;32m     12\u001b[0m t\u001b[38;5;241m.\u001b[39mleft(ang) \u001b[38;5;66;03m# sin^-1(0.04)\u001b[39;00m\n\u001b[1;32m---> 13\u001b[0m draw(t, length \u001b[38;5;241m/\u001b[39m \u001b[38;5;241m4\u001b[39m, n\u001b[38;5;241m-\u001b[39m\u001b[38;5;241m1\u001b[39m)\n\u001b[0;32m     14\u001b[0m t\u001b[38;5;241m.\u001b[39mright(ang \u001b[38;5;241m*\u001b[39m \u001b[38;5;241m2\u001b[39m)\n\u001b[0;32m     15\u001b[0m draw(t, length \u001b[38;5;241m/\u001b[39m \u001b[38;5;241m4\u001b[39m, n\u001b[38;5;241m-\u001b[39m\u001b[38;5;241m1\u001b[39m)\n",
      "Cell \u001b[1;32mIn[2], line 17\u001b[0m, in \u001b[0;36mdraw\u001b[1;34m(t, length, n)\u001b[0m\n\u001b[0;32m     15\u001b[0m draw(t, length \u001b[38;5;241m/\u001b[39m \u001b[38;5;241m4\u001b[39m, n\u001b[38;5;241m-\u001b[39m\u001b[38;5;241m1\u001b[39m)\n\u001b[0;32m     16\u001b[0m t\u001b[38;5;241m.\u001b[39mleft(ang)\n\u001b[1;32m---> 17\u001b[0m draw(t, length \u001b[38;5;241m*\u001b[39m \u001b[38;5;241m0.63\u001b[39m, n\u001b[38;5;241m-\u001b[39m\u001b[38;5;241m1\u001b[39m)\n",
      "Cell \u001b[1;32mIn[2], line 13\u001b[0m, in \u001b[0;36mdraw\u001b[1;34m(t, length, n)\u001b[0m\n\u001b[0;32m     11\u001b[0m draw(t, length \u001b[38;5;241m*\u001b[39m \u001b[38;5;241m0.36\u001b[39m, n\u001b[38;5;241m-\u001b[39m\u001b[38;5;241m1\u001b[39m)\n\u001b[0;32m     12\u001b[0m t\u001b[38;5;241m.\u001b[39mleft(ang) \u001b[38;5;66;03m# sin^-1(0.04)\u001b[39;00m\n\u001b[1;32m---> 13\u001b[0m draw(t, length \u001b[38;5;241m/\u001b[39m \u001b[38;5;241m4\u001b[39m, n\u001b[38;5;241m-\u001b[39m\u001b[38;5;241m1\u001b[39m)\n\u001b[0;32m     14\u001b[0m t\u001b[38;5;241m.\u001b[39mright(ang \u001b[38;5;241m*\u001b[39m \u001b[38;5;241m2\u001b[39m)\n\u001b[0;32m     15\u001b[0m draw(t, length \u001b[38;5;241m/\u001b[39m \u001b[38;5;241m4\u001b[39m, n\u001b[38;5;241m-\u001b[39m\u001b[38;5;241m1\u001b[39m)\n",
      "Cell \u001b[1;32mIn[2], line 16\u001b[0m, in \u001b[0;36mdraw\u001b[1;34m(t, length, n)\u001b[0m\n\u001b[0;32m     14\u001b[0m t\u001b[38;5;241m.\u001b[39mright(ang \u001b[38;5;241m*\u001b[39m \u001b[38;5;241m2\u001b[39m)\n\u001b[0;32m     15\u001b[0m draw(t, length \u001b[38;5;241m/\u001b[39m \u001b[38;5;241m4\u001b[39m, n\u001b[38;5;241m-\u001b[39m\u001b[38;5;241m1\u001b[39m)\n\u001b[1;32m---> 16\u001b[0m t\u001b[38;5;241m.\u001b[39mleft(ang)\n\u001b[0;32m     17\u001b[0m draw(t, length \u001b[38;5;241m*\u001b[39m \u001b[38;5;241m0.63\u001b[39m, n\u001b[38;5;241m-\u001b[39m\u001b[38;5;241m1\u001b[39m)\n",
      "File \u001b[1;32m~\\anaconda3\\Lib\\turtle.py:1698\u001b[0m, in \u001b[0;36mTNavigator.left\u001b[1;34m(self, angle)\u001b[0m\n\u001b[0;32m   1679\u001b[0m \u001b[38;5;28;01mdef\u001b[39;00m \u001b[38;5;21mleft\u001b[39m(\u001b[38;5;28mself\u001b[39m, angle):\n\u001b[0;32m   1680\u001b[0m \u001b[38;5;250m    \u001b[39m\u001b[38;5;124;03m\"\"\"Turn turtle left by angle units.\u001b[39;00m\n\u001b[0;32m   1681\u001b[0m \n\u001b[0;32m   1682\u001b[0m \u001b[38;5;124;03m    Aliases: left | lt\u001b[39;00m\n\u001b[1;32m   (...)\u001b[0m\n\u001b[0;32m   1696\u001b[0m \u001b[38;5;124;03m    67.0\u001b[39;00m\n\u001b[0;32m   1697\u001b[0m \u001b[38;5;124;03m    \"\"\"\u001b[39;00m\n\u001b[1;32m-> 1698\u001b[0m     \u001b[38;5;28mself\u001b[39m\u001b[38;5;241m.\u001b[39m_rotate(angle)\n",
      "File \u001b[1;32m~\\anaconda3\\Lib\\turtle.py:3350\u001b[0m, in \u001b[0;36mRawTurtle._rotate\u001b[1;34m(self, angle)\u001b[0m\n\u001b[0;32m   3348\u001b[0m         \u001b[38;5;28mself\u001b[39m\u001b[38;5;241m.\u001b[39m_update()\n\u001b[0;32m   3349\u001b[0m \u001b[38;5;28mself\u001b[39m\u001b[38;5;241m.\u001b[39m_orient \u001b[38;5;241m=\u001b[39m neworient\n\u001b[1;32m-> 3350\u001b[0m \u001b[38;5;28mself\u001b[39m\u001b[38;5;241m.\u001b[39m_update()\n",
      "File \u001b[1;32m~\\anaconda3\\Lib\\turtle.py:2668\u001b[0m, in \u001b[0;36mRawTurtle._update\u001b[1;34m(self)\u001b[0m\n\u001b[0;32m   2666\u001b[0m     \u001b[38;5;28;01mreturn\u001b[39;00m\n\u001b[0;32m   2667\u001b[0m \u001b[38;5;28;01melif\u001b[39;00m screen\u001b[38;5;241m.\u001b[39m_tracing \u001b[38;5;241m==\u001b[39m \u001b[38;5;241m1\u001b[39m:\n\u001b[1;32m-> 2668\u001b[0m     \u001b[38;5;28mself\u001b[39m\u001b[38;5;241m.\u001b[39m_update_data()\n\u001b[0;32m   2669\u001b[0m     \u001b[38;5;28mself\u001b[39m\u001b[38;5;241m.\u001b[39m_drawturtle()\n\u001b[0;32m   2670\u001b[0m     screen\u001b[38;5;241m.\u001b[39m_update()                  \u001b[38;5;66;03m# TurtleScreenBase\u001b[39;00m\n",
      "File \u001b[1;32m~\\anaconda3\\Lib\\turtle.py:2654\u001b[0m, in \u001b[0;36mRawTurtle._update_data\u001b[1;34m(self)\u001b[0m\n\u001b[0;32m   2653\u001b[0m \u001b[38;5;28;01mdef\u001b[39;00m \u001b[38;5;21m_update_data\u001b[39m(\u001b[38;5;28mself\u001b[39m):\n\u001b[1;32m-> 2654\u001b[0m     \u001b[38;5;28mself\u001b[39m\u001b[38;5;241m.\u001b[39mscreen\u001b[38;5;241m.\u001b[39m_incrementudc()\n\u001b[0;32m   2655\u001b[0m     \u001b[38;5;28;01mif\u001b[39;00m \u001b[38;5;28mself\u001b[39m\u001b[38;5;241m.\u001b[39mscreen\u001b[38;5;241m.\u001b[39m_updatecounter \u001b[38;5;241m!=\u001b[39m \u001b[38;5;241m0\u001b[39m:\n\u001b[0;32m   2656\u001b[0m         \u001b[38;5;28;01mreturn\u001b[39;00m\n",
      "File \u001b[1;32m~\\anaconda3\\Lib\\turtle.py:1284\u001b[0m, in \u001b[0;36mTurtleScreen._incrementudc\u001b[1;34m(self)\u001b[0m\n\u001b[0;32m   1282\u001b[0m \u001b[38;5;28;01mif\u001b[39;00m \u001b[38;5;129;01mnot\u001b[39;00m TurtleScreen\u001b[38;5;241m.\u001b[39m_RUNNING:\n\u001b[0;32m   1283\u001b[0m     TurtleScreen\u001b[38;5;241m.\u001b[39m_RUNNING \u001b[38;5;241m=\u001b[39m \u001b[38;5;28;01mTrue\u001b[39;00m\n\u001b[1;32m-> 1284\u001b[0m     \u001b[38;5;28;01mraise\u001b[39;00m Terminator\n\u001b[0;32m   1285\u001b[0m \u001b[38;5;28;01mif\u001b[39;00m \u001b[38;5;28mself\u001b[39m\u001b[38;5;241m.\u001b[39m_tracing \u001b[38;5;241m>\u001b[39m \u001b[38;5;241m0\u001b[39m:\n\u001b[0;32m   1286\u001b[0m     \u001b[38;5;28mself\u001b[39m\u001b[38;5;241m.\u001b[39m_updatecounter \u001b[38;5;241m+\u001b[39m\u001b[38;5;241m=\u001b[39m \u001b[38;5;241m1\u001b[39m\n",
      "\u001b[1;31mTerminator\u001b[0m: "
     ]
    }
   ],
   "source": [
    "from __future__ import print_function, division\n",
    "import math\n",
    "import turtle\n",
    "\n",
    "ang = 90 - math.degrees(math.asin(0.04))\n",
    "\n",
    "def draw(t, length, n):\n",
    "    if n == 0:\n",
    "        t.forward(length)\n",
    "        return\n",
    "    draw(t, length * 0.36, n-1)\n",
    "    t.left(ang) # sin^-1(0.04)\n",
    "    draw(t, length / 4, n-1)\n",
    "    t.right(ang * 2)\n",
    "    draw(t, length / 4, n-1)\n",
    "    t.left(ang)\n",
    "    draw(t, length * 0.63, n-1)\n",
    "\n",
    "gamera = turtle.Turtle()\n",
    "gamera.reset()\n",
    "gamera.speed(0)\n",
    "length = 500\n",
    "hierarchy = 6\n",
    "# move to the starting point\n",
    "gamera.penup()\n",
    "gamera.back(length / 2)\n",
    "# draw\n",
    "gamera.pendown()\n",
    "draw(gamera, length, hierarchy)\n",
    "# wait for the user to close the window\n",
    "turtle.mainloop()\n"
   ]
  },
  {
   "cell_type": "code",
   "execution_count": null,
   "id": "25c52533-120a-4aa0-9731-8d1d2af648fd",
   "metadata": {},
   "outputs": [],
   "source": []
  },
  {
   "cell_type": "code",
   "execution_count": null,
   "id": "b8e32358-b319-4e4e-8436-cd0a4ae414eb",
   "metadata": {},
   "outputs": [],
   "source": []
  }
 ],
 "metadata": {
  "kernelspec": {
   "display_name": "Python 3 (ipykernel)",
   "language": "python",
   "name": "python3"
  },
  "language_info": {
   "codemirror_mode": {
    "name": "ipython",
    "version": 3
   },
   "file_extension": ".py",
   "mimetype": "text/x-python",
   "name": "python",
   "nbconvert_exporter": "python",
   "pygments_lexer": "ipython3",
   "version": "3.12.4"
  }
 },
 "nbformat": 4,
 "nbformat_minor": 5
}
