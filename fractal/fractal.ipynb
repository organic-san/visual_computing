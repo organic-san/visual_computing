{
 "cells": [
  {
   "cell_type": "code",
   "execution_count": null,
   "id": "9ea4bd59-a101-47ff-8e7c-cb884927ee2d",
   "metadata": {},
   "outputs": [],
   "source": [
    "from __future__ import print_function, division\n",
    "import math\n",
    "import turtle\n",
    "\n",
    "def draw(t, length, n):\n",
    "    if n == 0:\n",
    "        t.forward(length)\n",
    "        return\n",
    "    draw(t, length / 3, n-1)\n",
    "    t.left(60)\n",
    "    t.forward(length)\n",
    "            t.left(120)\n",
    "    draw(t, length / 3, n-1)\n",
    "    t.right(120)\n",
    "    draw(t, length / 3, n-1)\n",
    "    t.left(60)\n",
    "    draw(t, length / 3, n-1)\n",
    "\n",
    "def snowflake(t, l, n):\n",
    "    t.penup()\n",
    "    t.left(90)\n",
    "    t.forward(l * 0.866 / 3)\n",
    "    t.right(90)\n",
    "    t.pendown()\n",
    "    draw(t, l, n)\n",
    "    t.right(120)\n",
    "    draw(t, l, n)\n",
    "    t.right(120)\n",
    "    draw(t, l, n)\n",
    "\n",
    "gamera = turtle.Turtle()\n",
    "gamera.reset()\n",
    "gamera.speed(0)\n",
    "length = 400\n",
    "hierarchy = 6\n",
    "# move to the starting point\n",
    "gamera.penup()\n",
    "gamera.back(length / 2)\n",
    "# draw\n",
    "gamera.pendown()\n",
    "# draw(gamera, length, hierarchy)\n",
    "snowflake(gamera, length, hierarchy)\n",
    "# wait for the user to close the window\n",
    "turtle.mainloop()\n"
   ]
  },
  {
   "cell_type": "code",
   "execution_count": null,
   "id": "0b922e97-9fa4-4885-8a7a-992129f41bf2",
   "metadata": {},
   "outputs": [],
   "source": []
  },
  {
   "cell_type": "code",
   "execution_count": null,
   "id": "7047e142-a6d1-432a-94d6-353ea183130b",
   "metadata": {},
   "outputs": [],
   "source": []
  }
 ],
 "metadata": {
  "kernelspec": {
   "display_name": "Python 3 (ipykernel)",
   "language": "python",
   "name": "python3"
  },
  "language_info": {
   "codemirror_mode": {
    "name": "ipython",
    "version": 3
   },
   "file_extension": ".py",
   "mimetype": "text/x-python",
   "name": "python",
   "nbconvert_exporter": "python",
   "pygments_lexer": "ipython3",
   "version": "3.12.4"
  }
 },
 "nbformat": 4,
 "nbformat_minor": 5
}
